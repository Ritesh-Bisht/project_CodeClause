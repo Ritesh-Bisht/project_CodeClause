{
 "cells": [
  {
   "cell_type": "markdown",
   "metadata": {},
   "source": [
    "CodeClause - GOLDEN PROJECT \n",
    "\n",
    "2 : Personality Prediction System via CV Analysis\n",
    "\n",
    "AUTHOR : RITESH BISHT\n",
    " Artificial Intellegence Intern"
   ]
  },
  {
   "cell_type": "code",
   "execution_count": 1,
   "metadata": {},
   "outputs": [
    {
     "name": "stdout",
     "output_type": "stream",
     "text": [
      "\n",
      "\n",
      "Cross-Validation Scores: [0.1754386  0.22807018 0.14159292 0.21238938 0.21238938]\n",
      "\n",
      "\n",
      "Mean CV Accuracy: 0.19397609066915072\n",
      "\n",
      "\n",
      "Accuracy: 0.20422535211267606\n",
      "              precision    recall  f1-score   support\n",
      "\n",
      "  dependable       0.17      0.10      0.12        31\n",
      " extraverted       0.25      0.41      0.31        32\n",
      "      lively       0.10      0.05      0.06        22\n",
      " responsible       0.23      0.14      0.17        22\n",
      "     serious       0.19      0.26      0.22        35\n",
      "\n",
      "    accuracy                           0.20       142\n",
      "   macro avg       0.19      0.19      0.18       142\n",
      "weighted avg       0.19      0.20      0.19       142\n",
      "\n"
     ]
    }
   ],
   "source": [
    "import pandas as pd\n",
    "import numpy as np\n",
    "\n",
    "from sklearn.model_selection import train_test_split, cross_val_score\n",
    "from sklearn.linear_model import LogisticRegression\n",
    "from sklearn.metrics import accuracy_score, classification_report\n",
    "\n",
    "# Load and preprocess the dataset (replace 'your_dataset.csv' with your actual dataset)\n",
    "data = pd.read_csv('c:/Users/Ritesh Bisht/Downloads/archive/train.csv')\n",
    "data.fillna(method='ffill', inplace=True)  # Handle missing values\n",
    "\n",
    "# Split the data into training and testing sets\n",
    "X = data[['openness', 'agreeableness', 'neuroticism', 'conscientiousness', 'extraversion']]\n",
    "y = data['Personality (Class label)']\n",
    "X_train, X_test, y_train, y_test = train_test_split(X, y, test_size=0.2, random_state=42)\n",
    "\n",
    "# Choose and train the model (Logistic Regression in this example)\n",
    "model = LogisticRegression()\n",
    "model.fit(X_train, y_train)\n",
    "\n",
    "# Perform cross-validation\n",
    "scores = cross_val_score(model, X_train, y_train, cv=5)\n",
    "  # 5-fold cross-validation\n",
    "\n",
    "print('\\n')\n",
    "print(f'Cross-Validation Scores: {scores}')\n",
    "print('\\n')\n",
    "print(f'Mean CV Accuracy: {scores.mean()}')\n",
    "print('\\n')\n",
    "\n",
    "# Make predictions\n",
    "y_pred = model.predict(X_test)\n",
    "\n",
    "# Evaluate the model\n",
    "acc = accuracy_score(y_test, y_pred)\n",
    "print(f'Accuracy: {acc}')\n",
    "print(classification_report(y_test, y_pred))\n"
   ]
  }
 ],
 "metadata": {
  "kernelspec": {
   "display_name": "base",
   "language": "python",
   "name": "python3"
  },
  "language_info": {
   "codemirror_mode": {
    "name": "ipython",
    "version": 3
   },
   "file_extension": ".py",
   "mimetype": "text/x-python",
   "name": "python",
   "nbconvert_exporter": "python",
   "pygments_lexer": "ipython3",
   "version": "3.11.4"
  },
  "orig_nbformat": 4
 },
 "nbformat": 4,
 "nbformat_minor": 2
}
